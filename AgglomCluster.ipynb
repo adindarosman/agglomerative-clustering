{
  "nbformat": 4,
  "nbformat_minor": 0,
  "metadata": {
    "colab": {
      "provenance": [],
      "collapsed_sections": []
    },
    "kernelspec": {
      "name": "python3",
      "display_name": "Python 3"
    },
    "language_info": {
      "name": "python"
    }
  },
  "cells": [
    {
      "cell_type": "code",
      "metadata": {
        "id": "-WZUhDuziUn2"
      },
      "source": [
        "import numpy as np\n",
        "import pandas as pd\n",
        "from scipy import ndimage\n",
        "from scipy.cluster import hierarchy\n",
        "from scipy.spatial import distance_matrix\n",
        "from matplotlib import pyplot as plt\n",
        "from sklearn import manifold, datasets\n",
        "from sklearn.cluster import AgglomerativeClustering\n",
        "%matplotlib inline"
      ],
      "execution_count": null,
      "outputs": []
    },
    {
      "cell_type": "code",
      "metadata": {
        "id": "SQsa16hZjLE0"
      },
      "source": [
        "X1, Y1 = make_blobs(n_samples=50, centers=[[4,4], [-2,-1], \n",
        "          [1,1], [10,4]], cluster_std=0.9)"
      ],
      "execution_count": null,
      "outputs": []
    },
    {
      "cell_type": "code",
      "metadata": {
        "id": "C9LwuRb4jekO"
      },
      "source": [
        "plt.scatter(X1[:,0], X1[:,1], marker='x')"
      ],
      "execution_count": null,
      "outputs": []
    },
    {
      "cell_type": "code",
      "metadata": {
        "id": "Ai5IRiWukCIY"
      },
      "source": [
        "agglom = AgglomerativeClustering(n_clusters = 4, linkage = 'single')\n",
        "agglom.fit(X1,Y1)"
      ],
      "execution_count": null,
      "outputs": []
    },
    {
      "cell_type": "code",
      "metadata": {
        "id": "Rv2U97oykCJe"
      },
      "source": [
        "plt.figure(figsize=(6,4))\n",
        "\n",
        "x_min, x_max, = np.min(X1, axis=0), np.max(X1, axis=0)\n",
        "\n",
        "X1 = (X1 - x_min) / (x_max - x_min)\n",
        "\n",
        "for i in range(X1.shape[0]):\n",
        "  plt.text(X1[i,0], X1[i,1], str(Y1[i]), \n",
        "           color=plt.cm.nipy_spectral(agglom.labels_[i]/10.),\n",
        "           fontdict={'weight': 'bold', 'size': 9})\n",
        "\n",
        "plt.xticks([])\n",
        "plt.yticks([])\n",
        "\n",
        "plt.scatter(X1[:,0], X1[:,1], marker='.')\n",
        "\n",
        "plt.show()"
      ],
      "execution_count": null,
      "outputs": []
    },
    {
      "cell_type": "code",
      "metadata": {
        "id": "MLGkhXi8my5v"
      },
      "source": [
        "dist_matrix = distance_matrix(X1,X1)\n",
        "print(dist_matrix)"
      ],
      "execution_count": null,
      "outputs": []
    },
    {
      "cell_type": "code",
      "metadata": {
        "id": "veUagneGnxrV"
      },
      "source": [
        "Z = hierarchy.linkage(dist_matrix, 'complete')\n",
        "X = hierarchy.linkage(dist_matrix, 'single')\n",
        "Y = hierarchy.linkage(dist_matrix, 'average')"
      ],
      "execution_count": null,
      "outputs": []
    },
    {
      "cell_type": "code",
      "metadata": {
        "id": "ZBJpoQbMoJZw"
      },
      "source": [
        "dendro = hierarchy.dendrogram(Z)"
      ],
      "execution_count": null,
      "outputs": []
    },
    {
      "cell_type": "code",
      "metadata": {
        "id": "grboQhJ8of7E"
      },
      "source": [
        "dendro = hierarchy.dendrogram(X)"
      ],
      "execution_count": null,
      "outputs": []
    },
    {
      "cell_type": "code",
      "metadata": {
        "id": "SoKvjhKwoghf"
      },
      "source": [
        "dendro = hierarchy.dendrogram(Y)"
      ],
      "execution_count": null,
      "outputs": []
    },
    {
      "cell_type": "markdown",
      "metadata": {
        "id": "EjI2MFTm20FL"
      },
      "source": [
        "2. Cars culs"
      ]
    },
    {
      "cell_type": "code",
      "metadata": {
        "id": "nX06xlR_pVIP"
      },
      "source": [
        "url = \"https://archive.ics.uci.edu/ml/machine-learning-databases/iris/iris.data\"\n",
        "names = ['sepal-l','sepal-w','petal-l','petal-w','class']\n",
        "dataset = pd.read_csv(url,names=names)\n",
        "print(dataset.shape)\n",
        "dataset.head(5)"
      ],
      "execution_count": null,
      "outputs": []
    },
    {
      "cell_type": "code",
      "metadata": {
        "id": "UMmWKo7jrOaW"
      },
      "source": [
        "print('Shape of dataset before cleaning: ',pdf.size)\n",
        "pdf[['sales','resale','type','price','engine_s','horsepow','wheelbas',\n",
        "     'width','length','curb_wgt','fuel_cap','mpg','lnsales']] = pdf[['sales', \n",
        "      'resale', 'type', 'price', 'engine_s', 'horsepow','wheelbas',\n",
        "     'width','length','curb_wgt','fuel_cap','mpg','lnsales']].apply(pd.to_numeric,\n",
        "      errors='coerce')\n",
        "pdf = pdf.dropna()\n",
        "pdf = pdf.reset_index(drop=True)\n",
        "print (\"Shape of dataset after cleaning: \", pdf.size)\n",
        "pdf.head(5)"
      ],
      "execution_count": null,
      "outputs": []
    },
    {
      "cell_type": "code",
      "metadata": {
        "id": "uOxP66VptEbg"
      },
      "source": [
        "featureset = pdf[['engine_s','horsepow','wheelbas','width',\n",
        "                  'length','curb_wgt','fuel_cap','mpg']]"
      ],
      "execution_count": null,
      "outputs": []
    },
    {
      "cell_type": "code",
      "metadata": {
        "id": "L3HbL8fltTDb"
      },
      "source": [
        "from sklearn.preprocessing import MinMaxScaler\n",
        "x = featureset.values\n",
        "min_max_scaler = MinMaxScaler()\n",
        "feature_mtx = min_max_scaler.fit_transform(x)\n",
        "feature_mtx [0:5]"
      ],
      "execution_count": null,
      "outputs": []
    },
    {
      "cell_type": "markdown",
      "metadata": {
        "id": "obOOM6up2CJw"
      },
      "source": [
        "with scipy"
      ]
    },
    {
      "cell_type": "code",
      "metadata": {
        "id": "oCml5ftztw-_"
      },
      "source": [
        "import scipy\n",
        "leng = feature_mtx.shape[0]\n",
        "D = scipy.zeros([leng,leng])\n",
        "for i in range(leng):\n",
        "  for j in range(leng):\n",
        "    D[i,j] = scipy.spatial.distance.euclidean(feature_mtx[i], feature_mtx[j])"
      ],
      "execution_count": null,
      "outputs": []
    },
    {
      "cell_type": "markdown",
      "metadata": {
        "id": "7KUvCFOD2JSr"
      },
      "source": [
        "single"
      ]
    },
    {
      "cell_type": "code",
      "metadata": {
        "id": "iCgtAmVBuUVi"
      },
      "source": [
        "import pylab\n",
        "import scipy.cluster.hierarchy\n",
        "X = hierarchy.linkage(D, 'single')"
      ],
      "execution_count": null,
      "outputs": []
    },
    {
      "cell_type": "code",
      "metadata": {
        "id": "Do3OZ7Ahuw8L"
      },
      "source": [
        "from scipy.cluster.hierarchy import fcluster\n",
        "k = 5\n",
        "clusters = fcluster(X, k, criterion='maxclust')\n",
        "clusters"
      ],
      "execution_count": null,
      "outputs": []
    },
    {
      "cell_type": "code",
      "metadata": {
        "id": "cPYMfRtxvgWU"
      },
      "source": [
        "fig = pylab.figure(figsize=(18,50))\n",
        "def llf(id):\n",
        "  return '[%s %s %s]' % (pdf['manufact'][id], pdf['model'][id], \n",
        "                         int(float(pdf['type'][id])))\n",
        "  \n",
        "dendro = hierarchy.dendrogram(X, leaf_label_func = llf, \n",
        "         leaf_rotation = 0, leaf_font_size = 12, orientation = 'right')"
      ],
      "execution_count": null,
      "outputs": []
    },
    {
      "cell_type": "markdown",
      "metadata": {
        "id": "R6urMiT22MlK"
      },
      "source": [
        "average"
      ]
    },
    {
      "cell_type": "code",
      "metadata": {
        "id": "aTkBIDEt2PUy"
      },
      "source": [
        "import pylab\n",
        "import scipy.cluster.hierarchy\n",
        "Y = hierarchy.linkage(D, 'average')"
      ],
      "execution_count": null,
      "outputs": []
    },
    {
      "cell_type": "code",
      "metadata": {
        "id": "Sgt9Fm4p2V7O"
      },
      "source": [
        "from scipy.cluster.hierarchy import fcluster\n",
        "k = 5\n",
        "clusters = fcluster(X, k, criterion='maxclust')\n",
        "clusters"
      ],
      "execution_count": null,
      "outputs": []
    },
    {
      "cell_type": "code",
      "metadata": {
        "id": "ki0thw322cZd"
      },
      "source": [
        "fig = pylab.figure(figsize=(18,50))\n",
        "def llf(id):\n",
        "  return '[%s %s %s]' % (pdf['manufact'][id], pdf['model'][id], int(float(pdf['type'][id])))\n",
        "  \n",
        "dendro = hierarchy.dendrogram(Y, leaf_label_func = llf, leaf_rotation = 0, leaf_font_size = 12, orientation = 'right')"
      ],
      "execution_count": null,
      "outputs": []
    },
    {
      "cell_type": "markdown",
      "metadata": {
        "id": "BdRYkSTs3OuU"
      },
      "source": [
        "scikit-learn"
      ]
    },
    {
      "cell_type": "code",
      "metadata": {
        "id": "HWH4ubKF3VvH"
      },
      "source": [
        "dist_matrix = distance_matrix(feature_mtx, feature_mtx)\n",
        "print(dist_matrix)"
      ],
      "execution_count": null,
      "outputs": []
    },
    {
      "cell_type": "markdown",
      "metadata": {
        "id": "afuUsQjM5NZh"
      },
      "source": [
        "single"
      ]
    },
    {
      "cell_type": "code",
      "metadata": {
        "id": "DdTsAbA_4dKc"
      },
      "source": [
        "agglom = AgglomerativeClustering(n_clusters = 6, linkage = 'single')\n",
        "agglom.fit(feature_mtx)\n",
        "agglom.labels_"
      ],
      "execution_count": null,
      "outputs": []
    },
    {
      "cell_type": "code",
      "metadata": {
        "id": "lEjcQWLM4dMz"
      },
      "source": [
        "pdf['cluster_'] = agglom.labels_\n",
        "pdf.head()"
      ],
      "execution_count": null,
      "outputs": []
    },
    {
      "cell_type": "code",
      "metadata": {
        "id": "8MMWT6JI5dRZ"
      },
      "source": [
        "import matplotlib.cm as cm\n",
        "n_clusters = max(agglom.labels_)+1\n",
        "colors = cm.rainbow(np.linspace(0,1,n_clusters))\n",
        "cluster_labels = list(range(0, n_clusters))\n",
        "\n",
        "plt.figure(figsize=(16,14))\n",
        "\n",
        "for color, label in zip(colors, cluster_labels):\n",
        "  subset = pdf[pdf.cluster_ == label]\n",
        "  for i in subset.index:\n",
        "    plt.text(subset.horsepow[i], subset.mpg[i], str(subset['model'][i]), rotation=25)\n",
        "    plt.scatter(subset.horsepow, subset.mpg, s= subset.price*10, c=color, \n",
        "                label='cluster'+str(label),alpha=0.5)\n",
        "\n",
        "plt.legend()\n",
        "plt.title('Clusters')\n",
        "plt.xlabel('horsepow')\n",
        "plt.ylabel('mpg')"
      ],
      "execution_count": null,
      "outputs": []
    },
    {
      "cell_type": "code",
      "metadata": {
        "id": "lQopgbSc7Utw"
      },
      "source": [
        "pdf.groupby(['cluster_','type'])['cluster_'].count()"
      ],
      "execution_count": null,
      "outputs": []
    },
    {
      "cell_type": "code",
      "metadata": {
        "id": "pNBQiJW37ghY"
      },
      "source": [
        "agg_cars = pdf.groupby(['cluster_','type'])['horsepow','engine_s','mpg','price'].mean()\n",
        "agg_cars"
      ],
      "execution_count": null,
      "outputs": []
    },
    {
      "cell_type": "code",
      "metadata": {
        "id": "2wMYRYB572Pg"
      },
      "source": [
        "plt.figure(figsize=(16,10))\n",
        "for color, label in zip(colors, cluster_labels):\n",
        "  subset = agg_cars.loc[(label,),]\n",
        "  for i in subset.index:\n",
        "    plt.text(subset.loc[i][0]+5, subset.loc[i][2], 'type='+str(int(i)) + \n",
        "             ', price='+str(int(subset.loc[i][3]))+'k')\n",
        "    plt.scatter(subset.horsepow, subset.mpg, s=subset.price*20, c=color, \n",
        "                label='cluster'+str(label))\n",
        "\n",
        "plt.legend()\n",
        "plt.title('Clusters')\n",
        "plt.xlabel('horsepow')\n",
        "plt.ylabel('mpg')"
      ],
      "execution_count": null,
      "outputs": []
    },
    {
      "cell_type": "markdown",
      "metadata": {
        "id": "rhsgdm4k9i21"
      },
      "source": [
        "average"
      ]
    },
    {
      "cell_type": "code",
      "metadata": {
        "id": "2nAL7puN9llw"
      },
      "source": [
        "agglom = AgglomerativeClustering(n_clusters = 6, linkage = 'average')\n",
        "agglom.fit(feature_mtx)\n",
        "agglom.labels_"
      ],
      "execution_count": null,
      "outputs": []
    },
    {
      "cell_type": "code",
      "metadata": {
        "id": "KdS3DMDS9pPX"
      },
      "source": [
        "pdf['cluster_'] = agglom.labels_\n",
        "pdf.head()"
      ],
      "execution_count": null,
      "outputs": []
    },
    {
      "cell_type": "code",
      "metadata": {
        "id": "fujYF-cY9vRO"
      },
      "source": [
        "import matplotlib.cm as cm\n",
        "n_clusters = max(agglom.labels_)+1\n",
        "colors = cm.rainbow(np.linspace(0,1,n_clusters))\n",
        "cluster_labels = list(range(0, n_clusters))\n",
        "\n",
        "plt.figure(figsize=(16,14))\n",
        "\n",
        "for color, label in zip(colors, cluster_labels):\n",
        "  subset = pdf[pdf.cluster_ == label]\n",
        "  for i in subset.index:\n",
        "    plt.text(subset.horsepow[i], subset.mpg[i], str(subset['model'][i]), rotation=25)\n",
        "    plt.scatter(subset.horsepow, subset.mpg, s= subset.price*10, c=color, \n",
        "                label='cluster'+str(label),alpha=0.5)\n",
        "\n",
        "plt.legend()\n",
        "plt.title('Clusters')\n",
        "plt.xlabel('horsepow')\n",
        "plt.ylabel('mpg')"
      ],
      "execution_count": null,
      "outputs": []
    },
    {
      "cell_type": "code",
      "metadata": {
        "id": "yGsUhSLw9zue"
      },
      "source": [
        "pdf.groupby(['cluster_','type'])['cluster_'].count()"
      ],
      "execution_count": null,
      "outputs": []
    },
    {
      "cell_type": "code",
      "metadata": {
        "id": "7LoaPla19z2d"
      },
      "source": [
        "agg_cars = pdf.groupby(['cluster_','type'])['horsepow','engine_s','mpg','price'].mean()\n",
        "agg_cars"
      ],
      "execution_count": null,
      "outputs": []
    },
    {
      "cell_type": "code",
      "metadata": {
        "id": "f266TbBm9z9o"
      },
      "source": [
        "plt.figure(figsize=(16,10))\n",
        "for color, label in zip(colors, cluster_labels):\n",
        "  subset = agg_cars.loc[(label,),]\n",
        "  for i in subset.index:\n",
        "    plt.text(subset.loc[i][0]+5, subset.loc[i][2], 'type='+str(int(i)) + \n",
        "             ', price='+str(int(subset.loc[i][3]))+'k')\n",
        "    plt.scatter(subset.horsepow, subset.mpg, s=subset.price*20, c=color, \n",
        "                label='cluster'+str(label))\n",
        "\n",
        "plt.legend()\n",
        "plt.title('Clusters')\n",
        "plt.xlabel('horsepow')\n",
        "plt.ylabel('mpg')"
      ],
      "execution_count": null,
      "outputs": []
    }
  ]
}